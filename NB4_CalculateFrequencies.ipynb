{
 "cells": [
  {
   "cell_type": "code",
   "execution_count": null,
   "metadata": {},
   "outputs": [],
   "source": [
    "#Importando os módulos necessários. Para calcular o arquivo frequencies são necessários tanto o gtfs_kit como o gtfs_functions.\n",
    "import datetime as dt\n",
    "from collections import OrderedDict\n",
    "import sys, os\n",
    "import dateutil.relativedelta as rd\n",
    "import json\n",
    "from pathlib import Path\n",
    "from typing import List\n",
    "\n",
    "import utm\n",
    "import pandas as pd\n",
    "import numpy as np\n",
    "import geopandas as gpd\n",
    "import shapely.geometry as sg\n",
    "import shapely.ops as so\n",
    "import pyproj                                                                                                                         \n",
    "pyproj.__version__                                                                                                                    \n",
    "\n",
    "\n",
    "from pyproj import CRS                                                                                                                \n",
    "\n",
    "\n",
    "DIR = Path('/Users/guilhermeiablonovski/OneDrive_UFRGS/_quicko/gtfs_testes')\n",
    "sys.path.append(str(DIR))\n",
    "\n",
    "import gtfs_kit as gk\n",
    "import gtfs_functions as gtfs\n",
    "\n",
    "%load_ext autoreload\n",
    "%autoreload 2\n",
    "\n",
    "DATA_DIR = DIR/'BA/salvador_ba'"
   ]
  },
  {
   "cell_type": "code",
   "execution_count": null,
   "metadata": {},
   "outputs": [],
   "source": [
    "#Designando o conjunto GTFS a ser lido pelo gtfs-kit\n",
    "path = DATA_DIR/'salvadorkit.zip'\n",
    "cairns = (\n",
    "    gk.read_feed(path, dist_units='km')\n",
    "    \n",
    ")\n",
    "feed = cairns"
   ]
  },
  {
   "cell_type": "code",
   "execution_count": null,
   "metadata": {},
   "outputs": [],
   "source": [
    "#Se o GTFS não possuir arquivo frequencies, gerar um dataframe vazio\n",
    "d = {'trip_id': [], 'start_time': [], 'end_time':[], 'headway_secs':[], 'exact_times':[] }\n",
    "feed.frequencies = pd.DataFrame(data=d)"
   ]
  },
  {
   "cell_type": "code",
   "execution_count": null,
   "metadata": {},
   "outputs": [],
   "source": [
    "#Inicializar as variáveis para uso do gtfs_functions\n",
    "routes, stops, stop_times, trips, shapes = gtfs.import_gtfs(r\"/Users/guilhermeiablonovski/OneDrive_UFRGS/_quicko/gtfs_testes/salvadorkit.zip\")"
   ]
  },
  {
   "cell_type": "code",
   "execution_count": null,
   "metadata": {},
   "outputs": [],
   "source": [
    "#Usar a função lines_freq para calcular a frequencia de viagens para cada rota\n",
    "\n",
    "#O cutoff defaul é como o definido na lista a seguir, ou seja a função calcula a frequencia média das viagens nesses intervalos horários\n",
    "cutoffs = [0,6,9,15.5,19,22,24]\n",
    "line_freq = gtfs.lines_freq(stop_times, trips, shapes, routes, cutoffs = cutoffs)"
   ]
  },
  {
   "cell_type": "code",
   "execution_count": null,
   "metadata": {},
   "outputs": [],
   "source": [
    "#Realizar um merge para capturar pelo assignar os valores de frequencias das rotas para pelo menos uma de suas viagens associadas em cada janela horária\n",
    "df = feed.trips\n",
    "merged = pd.merge(line_freq, df, on='route_id', how='left').drop_duplicates()"
   ]
  },
  {
   "cell_type": "code",
   "execution_count": null,
   "metadata": {},
   "outputs": [],
   "source": [
    "#Filtrar o dataframe para que só contenha dois tipos de combinação de dir_id e direction_id, que são campos redundantes\n",
    "filtered = merged[((merged.dir_id=='Outbound') & (merged.direction_id==0)) | ((merged.dir_id=='Inbound')&(merged.direction_id==1))]"
   ]
  },
  {
   "cell_type": "code",
   "execution_count": null,
   "metadata": {},
   "outputs": [],
   "source": [
    "#Dropar todas as entradas repetidas para a mesma janela horária para qualquer viagem\n",
    "final = filtered.drop_duplicates(subset=['trip_headsign','window'])"
   ]
  },
  {
   "cell_type": "code",
   "execution_count": null,
   "metadata": {},
   "outputs": [],
   "source": [
    "#Extrair do dataframe final as variáveis no formato esperado pelo padrão do frequencies\n",
    "starttime = final['window'].str.split(pat='-', expand=True)\n",
    "endttime = final['window'].str.split(pat='-', expand=True)\n",
    "final['start_time']=starttime[0]\n",
    "final['end_time']=starttime[1]\n",
    "final['headway_secs']=final['frequency']\n",
    "final['exact_times']=1"
   ]
  },
  {
   "cell_type": "code",
   "execution_count": null,
   "metadata": {},
   "outputs": [],
   "source": [
    "#Criar uma dataframe com os campos que interessam\n",
    "novofreq = final[['trip_id','start_time','end_time','headway_secs','exact_times']]"
   ]
  },
  {
   "cell_type": "code",
   "execution_count": null,
   "metadata": {},
   "outputs": [],
   "source": [
    "#Adicionar o dataframe novofreq (gerado com gtfs_functions) ao feed.frequencies (do gtfs-kit) gerado anteriormente ou pré-existente\n",
    "feed.frequencies = feed.frequencies.append(novofreq)"
   ]
  },
  {
   "cell_type": "code",
   "execution_count": null,
   "metadata": {},
   "outputs": [],
   "source": [
    "#Exportar o resultado\n",
    "feed.write('/Users/guilhermeiablonovski/OneDrive_UFRGS/_quicko/gtfs_testes/salvadorkit_frequencies.zip')"
   ]
  }
 ],
 "metadata": {
  "kernelspec": {
   "display_name": "gtfsenv",
   "language": "python",
   "name": "gtfsenv"
  },
  "language_info": {
   "codemirror_mode": {
    "name": "ipython",
    "version": 3
   },
   "file_extension": ".py",
   "mimetype": "text/x-python",
   "name": "python",
   "nbconvert_exporter": "python",
   "pygments_lexer": "ipython3",
   "version": "3.9.0"
  }
 },
 "nbformat": 4,
 "nbformat_minor": 4
}
