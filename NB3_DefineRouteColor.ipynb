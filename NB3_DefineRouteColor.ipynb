{
 "cells": [
  {
   "cell_type": "code",
   "execution_count": 1,
   "metadata": {},
   "outputs": [],
   "source": [
    "import datetime as dt\n",
    "from collections import OrderedDict\n",
    "import sys, os\n",
    "import dateutil.relativedelta as rd\n",
    "import json\n",
    "from pathlib import Path\n",
    "from typing import List\n",
    "\n",
    "import utm\n",
    "import pandas as pd\n",
    "import numpy as np\n",
    "import geopandas as gpd\n",
    "import shapely.geometry as sg\n",
    "import shapely.ops as so\n",
    "import pyproj                                                                                                                         \n",
    "pyproj.__version__                                                                                                                    \n",
    "\n",
    "\n",
    "from pyproj import CRS                                                                                                                \n",
    "\n",
    "\n",
    "DIR = Path('/Users/guilhermeiablonovski/OneDrive_UFRGS/_quicko/gtfs_testes')\n",
    "sys.path.append(str(DIR))\n",
    "\n",
    "import gtfs_kit as gk\n",
    "\n",
    "%load_ext autoreload\n",
    "%autoreload 2\n",
    "\n",
    "DATA_DIR = DIR/'MG/belohorizonte_mg/belohorizonte-merge'\n",
    "path = DATA_DIR/'belohorizonte-merge.zip'\n",
    "cairns = (\n",
    "    gk.read_feed(path, dist_units='km')\n",
    "    \n",
    ")\n",
    "feed = cairns"
   ]
  },
  {
   "cell_type": "code",
   "execution_count": 2,
   "metadata": {},
   "outputs": [
    {
     "data": {
      "application/vnd.jupyter.widget-view+json": {
       "model_id": "10875ee53acb461fa8482814bf677dd7",
       "version_major": 2,
       "version_minor": 0
      },
      "text/plain": [
       "ColorPicker(value='blue', description='Pick a color')"
      ]
     },
     "metadata": {},
     "output_type": "display_data"
    }
   ],
   "source": [
    "#Importar o widget para escolher a cor\n",
    "import ipywidgets as widgets\n",
    "widgets.ColorPicker(\n",
    "    concise=False,\n",
    "    description='Pick a color',\n",
    "    value='blue',\n",
    "    disabled=False\n",
    ")"
   ]
  },
  {
   "cell_type": "code",
   "execution_count": null,
   "metadata": {},
   "outputs": [],
   "source": [
    "#Definir a cor através do campo route_color no datafram routes. Não incluir o #\n",
    "\n",
    "#Definir todos as linhas de metrô como vermelhas\n",
    "feed.routes.loc[feed.routes['route_type'] == 1, 'route_color'] = 'ff3300'\n",
    "\n",
    "#Definir todas as linhas de ônibus como cinzas\n",
    "feed.routes.loc[feed.routes['route_type'] == 3, 'route_color'] = 'b5b5b5'"
   ]
  },
  {
   "cell_type": "code",
   "execution_count": null,
   "metadata": {},
   "outputs": [],
   "source": [
    "#Exportar o feed modificado para novo zip\n",
    "feed.write('/Users/guilhermeiablonovski/OneDrive_UFRGS/_quicko/gtfs_testes/belohorizontekit.zip')"
   ]
  }
 ],
 "metadata": {
  "kernelspec": {
   "display_name": "gtfsenv",
   "language": "python",
   "name": "gtfsenv"
  },
  "language_info": {
   "codemirror_mode": {
    "name": "ipython",
    "version": 3
   },
   "file_extension": ".py",
   "mimetype": "text/x-python",
   "name": "python",
   "nbconvert_exporter": "python",
   "pygments_lexer": "ipython3",
   "version": "3.9.0"
  }
 },
 "nbformat": 4,
 "nbformat_minor": 4
}
