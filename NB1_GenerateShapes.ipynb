{
 "cells": [
  {
   "cell_type": "code",
   "execution_count": 2,
   "metadata": {},
   "outputs": [],
   "source": [
    "#IMPORTANTE: Este Notebook depende de uma licença do pacote arcpy. \n",
    "#É recomendável acessá-lo através de um Notebook ArcGIS dentro do ArcGIS Pro.\n",
    "\n",
    "import arcpy\n",
    "\n",
    "#Todos os outputs serão salvos em uma GeoDataBase nativa do ArcGIS que deve ser criada antecipadamente.\n",
    "arcpy.env.workspace = r'\\\\Mac\\Home\\Documents\\ArcGIS\\Projects\\Quicko_GenerateShapes\\Quicko_GenerateShapes.gdb'"
   ]
  },
  {
   "cell_type": "code",
   "execution_count": 1,
   "metadata": {},
   "outputs": [],
   "source": [
    "#Mapeando arquivos txt chave do GTFS ao qual se pretende agregar o arquivo shapes\n",
    "salvador_gtfs=r'Z:\\OneDrive_UFRGS\\_quicko\\gtfs_testes\\BA\\salvador_ba\\metro-salvador-2-3'\n",
    "salvador_stop_times=r'Z:\\OneDrive_UFRGS\\_quicko\\gtfs_testes\\BA\\salvador_ba\\metro-salvador-2-3\\stop_times.txt'\n",
    "\n",
    "#O processo irá gerar novos arquivos para trips, stop_times e shapes, os quais devem ser salvos em uma nova pasta\n",
    "salvador_new_trips=r'Z:\\OneDrive_UFRGS\\_quicko\\gtfs_testes\\BA\\salvador_ba\\new_trips.txt'\n",
    "salvador_new_shapes=r'Z:\\OneDrive_UFRGS\\_quicko\\gtfs_testes\\BA\\salvador_ba\\new_shapes.txt'\n",
    "salvador_new_stop_times=r'Z:\\OneDrive_UFRGS\\_quicko\\gtfs_testes\\BA\\salvador_ba\\new_stop_times.txt'\n",
    "\n",
    "#Para garantir que as rotas sejam traçadas tendo por base o mesmo sistema viário a ser utilizado no OTP, é preciso\n",
    "#criar um Network Dataset usando as linhas extraídas do OSM e populá-lo com um Travel Mode simples nomeado Bus.\n",
    "salvador_nd=r'Z:\\Documents\\ArcGIS\\Projects\\Quicko_GenerateShapes\\Quicko_GenerateShapes.gdb\\salvador_fd\\salvador_nd'\n"
   ]
  },
  {
   "cell_type": "code",
   "execution_count": 23,
   "metadata": {
    "collapsed": true
   },
   "outputs": [
    {
     "data": {
      "text/html": [
       "<h2>Output</h2><table><tr><th>id</th><th>value</th></tr><tr><td>0</td><td>\\\\Mac\\Home\\Documents\\ArcGIS\\Projects\\Quicko_GenerateShapes\\Quicko_GenerateShapes.gdb\\shapes3</td></tr><tr><td>1</td><td>\\\\Mac\\Home\\Documents\\ArcGIS\\Projects\\Quicko_GenerateShapes\\Quicko_GenerateShapes.gdb\\stops3</td></tr><tr><td>2</td><td>Z:\\OneDrive_UFRGS\\_quicko\\gtfs_testes\\BA\\salvador_ba\trips3.txt</td></tr></table><h2>Messages</h2>Start Time: Sunday, November 29, 2020 5:41:57 PM<br/>Calculating shapes along the road network, chunk 1 of 2...<br/>Calculating shapes along the road network, chunk 2 of 2...<br/>WARNING 003119: Calculating shapes along the network failed for 25/424 shape_ids. Straight-line shape features will be generated for the affected shape_ids: [26, 27, 150, 163, 164, 181, 182, 183, 196, 228, 234, 237, 264, 287, 289, 291, 293, 320, 337, 381, 393, 394, 397, 410, 411]<br/>Succeeded at Sunday, November 29, 2020 5:43:45 PM (Elapsed Time: 1 minutes 47 seconds)<br/><style>.rendered_html td, .rendered_html th {text-align: left;}.rendered_html tbody {border: 1px solid black;}</style>"
      ],
      "text/plain": [
       "<Result '\\\\\\\\Mac\\\\Home\\\\Documents\\\\ArcGIS\\\\Projects\\\\Quicko_GenerateShapes\\\\Quicko_GenerateShapes.gdb\\\\shapes3'>"
      ]
     },
     "execution_count": 23,
     "metadata": {},
     "output_type": "execute_result"
    }
   ],
   "source": [
    "#O método de geração das rotas se alimenta dos arquivos GTFS e gera duas Feature Classes dentro da GeoDataBase previamente mapeada\n",
    "#É importante fornecer valores altos para os dois últimos parâmetros para garantir que as paradas sejam encontradas pela rede\n",
    "arcpy.GenerateShapesFeaturesFromGTFS_conversion(\n",
    "    in_gtfs_folder=salvador_gtfs, \n",
    "    out_shape_lines='new_shapes', \n",
    "    out_shape_stops='new_stops', \n",
    "    out_gtfs_trips=salvador_new_trips, \n",
    "    network_modes=[\"0\",\"2\",\"3\",\"4\",\"5\",\"6\",\"7\",\"11\",\"12\",\"OTHER\"],\n",
    "    network_data_source=salvador_nd,\n",
    "    travel_mode=\"Bus\", \n",
    "    drive_side=\"Right\", \n",
    "    bearing_tolerance=180, \n",
    "    max_bearing_angle=180\n",
    ")"
   ]
  },
  {
   "cell_type": "code",
   "execution_count": 29,
   "metadata": {
    "collapsed": true
   },
   "outputs": [
    {
     "data": {
      "text/html": [
       "<h2>Output</h2><table><tr><th>id</th><th>value</th></tr><tr><td>0</td><td>Z:\\OneDrive_UFRGS\\_quicko\\gtfs_testes\\BA\\salvador_ba\\shapes3.txt</td></tr><tr><td>1</td><td>Z:\\OneDrive_UFRGS\\_quicko\\gtfs_testes\\BA\\salvador_ba\\stop_times3.txt</td></tr></table><h2>Messages</h2>Start Time: Sunday, November 29, 2020 6:13:38 PM<br/>Random Seed: 788012476<br/>Initializing input GTFS files...<br/>Generating output shapes.txt file...<br/>Linear referencing stops against shape polylines...<br/>WARNING 003124: The polyline representing shape_id 15 has 0 length. This shape_id will not be included in the output shapes.txt file, and the shape_dist_traveled value for all stops associated with this shape_id in the output stop_times.txt file will be 0.<br/>Populating shape_dist_traveled for stops_times.txt...<br/>Succeeded at Sunday, November 29, 2020 6:23:46 PM (Elapsed Time: 10 minutes 7 seconds)<br/><style>.rendered_html td, .rendered_html th {text-align: left;}.rendered_html tbody {border: 1px solid black;}</style>"
      ],
      "text/plain": [
       "<Result 'Z:\\\\OneDrive_UFRGS\\\\_quicko\\\\gtfs_testes\\\\BA\\\\salvador_ba\\\\shapes3.txt'>"
      ]
     },
     "execution_count": 29,
     "metadata": {},
     "output_type": "execute_result"
    }
   ],
   "source": [
    "#Com as linhas geradas em formato Feature Class, é preciso convertê-las em formato txt para juntar-se ao novo conjunto GTFS\n",
    "arcpy.FeaturesToGTFSShapes_conversion(\n",
    "    in_shape_lines = r'Z:\\Documents\\ArcGIS\\Projects\\Quicko_GenerateShapes\\Quicko_GenerateShapes.gdb\\new_shapes',\n",
    "    in_shape_stops = r'Z:\\Documents\\ArcGIS\\Projects\\Quicko_GenerateShapes\\Quicko_GenerateShapes.gdb\\new_stops',\n",
    "    in_gtfs_trips = salvador_new_trips,\n",
    "    in_gtfs_stop_times = salvador_stop_times,\n",
    "    out_gtfs_shapes = salvador_new_shapes,\n",
    "    out_gtfs_stop_times = salvador_new_stop_times,\n",
    "    distance_units = 'KILOMETERS'\n",
    "    )"
   ]
  },
  {
   "cell_type": "code",
   "execution_count": null,
   "metadata": {},
   "outputs": [],
   "source": []
  }
 ],
 "metadata": {
  "kernelspec": {
   "display_name": "Python 3",
   "language": "python",
   "name": "python3"
  },
  "language_info": {
   "codemirror_mode": {
    "name": "ipython",
    "version": 3
   },
   "file_extension": ".py",
   "mimetype": "text/x-python",
   "name": "python",
   "nbconvert_exporter": "python",
   "pygments_lexer": "ipython3",
   "version": "3.7.6"
  }
 },
 "nbformat": 4,
 "nbformat_minor": 2
}
